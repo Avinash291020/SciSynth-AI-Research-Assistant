{
 "cells": [
  {
   "cell_type": "markdown",
   "id": "5b235b41",
   "metadata": {},
   "source": [
    "# SciSynth: Basic Research Pipeline Example 🧪\n",
    "\n",
    "This notebook demonstrates the basic workflow of using SciSynth to analyze a research paper and generate insights. The pipeline includes:\n",
    "\n",
    "1. Loading and processing a research paper\n",
    "2. Generating insights from the paper\n",
    "3. Generating hypotheses based on the insights\n",
    "4. Testing a simple model on sample data\n",
    "5. Visualizing results and citation networks\n",
    "\n",
    "## Setup\n",
    "First, let's import the required modules:"
   ]
  },
  {
   "cell_type": "code",
   "execution_count": null,
   "id": "f9fd64f4",
   "metadata": {},
   "outputs": [],
   "source": [
    "import os\n",
    "from pathlib import Path\n",
    "from app.ingest_paper import extract_text_from_pdf, chunk_and_index\n",
    "from app.insight_agent import generate_insights\n",
    "from app.hypothesis_gen import generate_hypotheses\n",
    "from app.model_tester import run_basic_model\n",
    "from app.citation_network import CitationNetwork\n",
    "import matplotlib.pyplot as plt\n",
    "import pandas as pd"
   ]
  },
  {
   "cell_type": "markdown",
   "id": "13d8daac",
   "metadata": {},
   "source": [
    "## 1. Load and Process a Research Paper\n",
    "\n",
    "First, we'll load a sample research paper and process it into manageable chunks:"
   ]
  },
  {
   "cell_type": "code",
   "execution_count": null,
   "id": "7f53b3fe",
   "metadata": {},
   "outputs": [],
   "source": [
    "# Example with a sample paper\n",
    "paper_path = \"data/sample_paper.pdf\"\n",
    "text = extract_text_from_pdf(paper_path)\n",
    "index = chunk_and_index(text)\n",
    "print(f\"Processed {len(text.split())} words from the paper\")"
   ]
  },
  {
   "cell_type": "markdown",
   "id": "293f5747",
   "metadata": {},
   "source": [
    "## 2. Generate Insights\n",
    "\n",
    "Next, we'll use our insight generation system to extract key points from the paper:"
   ]
  },
  {
   "cell_type": "code",
   "execution_count": null,
   "id": "c83afee4",
   "metadata": {},
   "outputs": [],
   "source": [
    "insights = generate_insights(index)\n",
    "print(\"Key Insights:\")\n",
    "for i, insight in enumerate(insights.split('\\n'), 1):\n",
    "    if insight.strip():\n",
    "        print(f\"{i}. {insight.strip()}\")"
   ]
  },
  {
   "cell_type": "markdown",
   "id": "c7dfdb0b",
   "metadata": {},
   "source": [
    "## 3. Generate Hypotheses\n",
    "\n",
    "Based on the insights, we'll generate testable research hypotheses:"
   ]
  },
  {
   "cell_type": "code",
   "execution_count": null,
   "id": "7ce521eb",
   "metadata": {},
   "outputs": [],
   "source": [
    "hypotheses = generate_hypotheses(insights)\n",
    "print(\"Generated Hypotheses:\")\n",
    "for i, hypothesis in enumerate(hypotheses.split('\\n'), 1):\n",
    "    if hypothesis.strip():\n",
    "        print(f\"{i}. {hypothesis.strip()}\")"
   ]
  },
  {
   "cell_type": "markdown",
   "id": "b1f563c9",
   "metadata": {},
   "source": [
    "## 4. Test a Simple Model\n",
    "\n",
    "Let's test a simple model on our sample dataset to evaluate our hypotheses:"
   ]
  },
  {
   "cell_type": "code",
   "execution_count": null,
   "id": "f48a3863",
   "metadata": {},
   "outputs": [],
   "source": [
    "# Example with a sample dataset\n",
    "dataset_path = \"data/sample_dataset.csv\"\n",
    "results = run_basic_model(dataset_path, target_column=\"growth_rate\")\n",
    "print(\"Model Results:\")\n",
    "for metric, value in results.items():\n",
    "    if metric == \"feature_importance\":\n",
    "        print(\"\\nFeature Importance:\")\n",
    "        for feature, importance in value.items():\n",
    "            print(f\"{feature}: {importance:.3f}\")\n",
    "    else:\n",
    "        print(f\"\\n{metric}: {value:.3f}\")"
   ]
  },
  {
   "cell_type": "markdown",
   "id": "f3edfe06",
   "metadata": {},
   "source": [
    "## 5. Visualize Results\n",
    "\n",
    "Finally, let's create visualizations of our results and the citation network:"
   ]
  },
  {
   "cell_type": "code",
   "execution_count": null,
   "id": "7f2273b7",
   "metadata": {},
   "outputs": [],
   "source": [
    "# Visualize feature importance\n",
    "plt.figure(figsize=(10, 6))\n",
    "features = list(results['feature_importance'].keys())\n",
    "importances = list(results['feature_importance'].values())\n",
    "\n",
    "plt.bar(features, importances)\n",
    "plt.title('Feature Importance')\n",
    "plt.xticks(rotation=45)\n",
    "plt.ylabel('Importance Score')\n",
    "plt.tight_layout()\n",
    "plt.show()\n",
    "\n",
    "# Visualize citation network\n",
    "network = CitationNetwork()\n",
    "graph, relationships = network.analyze_papers(Path(\"results\"))\n",
    "\n",
    "plt.figure(figsize=(12, 8))\n",
    "network.visualize_network()\n",
    "plt.show()"
   ]
  }
 ],
 "metadata": {
  "kernelspec": {
   "display_name": "Python 3",
   "language": "python",
   "name": "python3"
  }
 },
 "nbformat": 4,
 "nbformat_minor": 5
}
